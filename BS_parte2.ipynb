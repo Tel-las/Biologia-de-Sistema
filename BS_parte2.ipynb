{
 "cells": [
  {
   "cell_type": "markdown",
   "metadata": {
    "collapsed": true,
    "pycharm": {
     "name": "#%% md\n"
    }
   },
   "source": [
    "Trabalho de Biologia de Sistemas\n",
    "\n",
    "Parte 2\n",
    "\n",
    "Drug targeting with OptFlux\n",
    "\n",
    "**Exercicio 1**\n",
    "\n",
    "Consider the genome-scale metabolic model of a pathogenic organisms in the OptFlux repository or in the BiGG database (http://systemsbiology.ucsd.edu/InSilicoOrganisms/OtherOrganisms). You can download the models in SBML, JSON format or import directly from the repository if available. Look for the associated publication and download it. Answer the following questions\n",
    "\n",
    "a) Study the organism and discuss the diseases it can cause and known drugs and virulence factors.\n",
    "\n",
    "\n",
    "Mycobacterium tuberculosis  is a species of pathogenic bacteria in the family Mycobacteriaceae and the causative agent of tuberculosis.\n",
    "It was first discovered in 1882 by Robert Koch.\n",
    "The physiology of M. tuberculosis is highly aerobic and requires high levels of oxygen.\n",
    "Primarily a pathogen of the mammalian respiratory system, it infects the lungs.\n",
    "The classic symptoms of active TB are a chronic cough with blood-containing mucus, fever, night sweats, and weight loss.\n",
    "Mycobacterium tuberculosis latently infects approximately one-third of humanity and is comparable only to human immunodeficiency virus (HIV) as a leading infectious cause of mortality worldwide.\n",
    "Obstacles for controlling TB infection include lengthy treatment regimens of 6 to 9 months, drug resistance, lack of a highly efficacious vaccine, and incomplete understanding of the factors that control infectivity and disease progression.\n",
    "Although only 10% of individuals infected with M. tuberculosis develop active disease, the immune responses associated with TB susceptibility or resistance are not known.\n",
    "In addition, it is not known why some individuals have disseminated TB that spreads to the meninges and central nervous system, while most people have localized disease in the lungs.\n",
    "\n",
    "\n",
    "\n",
    "\n",
    "\n",
    "\n"
   ]
  }
 ],
 "metadata": {
  "kernelspec": {
   "display_name": "Python 3",
   "language": "python",
   "name": "python3"
  },
  "language_info": {
   "codemirror_mode": {
    "name": "ipython",
    "version": 2
   },
   "file_extension": ".py",
   "mimetype": "text/x-python",
   "name": "python",
   "nbconvert_exporter": "python",
   "pygments_lexer": "ipython2",
   "version": "2.7.6"
  }
 },
 "nbformat": 4,
 "nbformat_minor": 0
}