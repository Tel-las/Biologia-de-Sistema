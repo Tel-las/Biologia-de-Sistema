{
 "cells": [
  {
   "cell_type": "markdown",
   "metadata": {
    "collapsed": true,
    "pycharm": {
     "name": "#%% md\n"
    }
   },
   "source": [
    "Trabalho de Biologia de Sistemas\n",
    "\n",
    "Parte 2\n",
    "\n",
    "Drug targeting with OptFlux\n",
    "\n",
    "**Exercicio 1**\n",
    "\n",
    "Consider the genome-scale metabolic model of a pathogenic organisms in the OptFlux repository or in the BiGG database (http://systemsbiology.ucsd.edu/InSilicoOrganisms/OtherOrganisms). You can download the models in SBML, JSON format or import directly from the repository if available. Look for the associated publication and download it. Answer the following questions\n",
    "\n",
    "a) Study the organism and discuss the diseases it can cause and known drugs and virulence factors.\n",
    "\n",
    "\n",
    "\n",
    "\n",
    "\n",
    "\n"
   ]
  }
 ],
 "metadata": {
  "kernelspec": {
   "display_name": "Python 3",
   "language": "python",
   "name": "python3"
  },
  "language_info": {
   "codemirror_mode": {
    "name": "ipython",
    "version": 2
   },
   "file_extension": ".py",
   "mimetype": "text/x-python",
   "name": "python",
   "nbconvert_exporter": "python",
   "pygments_lexer": "ipython2",
   "version": "2.7.6"
  }
 },
 "nbformat": 4,
 "nbformat_minor": 0
}