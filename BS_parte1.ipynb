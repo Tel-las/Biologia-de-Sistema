{
 "cells": [
  {
   "cell_type": "markdown",
   "metadata": {
    "collapsed": true,
    "pycharm": {
     "name": "#%% md\n"
    }
   },
   "source": [
    "**Exercise 1**\n",
    "\n",
    "What is the wild-type production of your group’s compound?"
   ]
  },
  {
   "cell_type": "code",
   "execution_count": 1,
   "outputs": [
    {
     "name": "stdout",
     "output_type": "stream",
     "text": [
      "Objective\n",
      "=========\n",
      "1.0 BIOMASS_Ec_iML1515_core_75p37M = 0.8769972144269731\n",
      "\n",
      "Uptake\n",
      "------\n",
      "Metabolite      Reaction      Flux  C-Number   C-Flux\n",
      "     ca2_e      EX_ca2_e  0.004565         0    0.00%\n",
      "      cl_e       EX_cl_e  0.004565         0    0.00%\n",
      " cobalt2_e  EX_cobalt2_e 2.192E-05         0    0.00%\n",
      "     cu2_e      EX_cu2_e 0.0006218         0    0.00%\n",
      "     fe2_e      EX_fe2_e   0.01409         0    0.00%\n",
      "  glc__D_e   EX_glc__D_e        10         6  100.00%\n",
      "       k_e        EX_k_e    0.1712         0    0.00%\n",
      "     mg2_e      EX_mg2_e  0.007608         0    0.00%\n",
      "     mn2_e      EX_mn2_e  0.000606         0    0.00%\n",
      "    mobd_e     EX_mobd_e 6.139E-06         0    0.00%\n",
      "     nh4_e      EX_nh4_e     9.471         0    0.00%\n",
      "     ni2_e      EX_ni2_e 0.0002833         0    0.00%\n",
      "      o2_e       EX_o2_e     22.13         0    0.00%\n",
      "      pi_e       EX_pi_e     0.846         0    0.00%\n",
      "     so4_e      EX_so4_e    0.2208         0    0.00%\n",
      "     zn2_e      EX_zn2_e 0.0002991         0    0.00%\n",
      "\n",
      "Secretion\n",
      "---------\n",
      "Metabolite     Reaction       Flux  C-Number  C-Flux\n",
      "  4crsol_c  DM_4crsol_c -0.0001956         7   0.01%\n",
      "   5drib_c   DM_5drib_c -0.0001973         5   0.00%\n",
      "    amob_c    DM_amob_c -1.754E-06        15   0.00%\n",
      "     co2_e     EX_co2_e        -24         1  99.99%\n",
      "     h2o_e     EX_h2o_e     -47.16         0   0.00%\n",
      "       h_e       EX_h_e     -8.058         0   0.00%\n",
      "    meoh_e    EX_meoh_e -1.754E-06         1   0.00%\n",
      "\n",
      "objective: 0.26609812519117587\n",
      "Status: OPTIMAL\n",
      "L-Malate wild type flux:  0.0\n",
      "D-Malate wild type flux:  0.0\n"
     ]
    }
   ],
   "source": [
    "from cobra.io import read_sbml_model\n",
    "model = read_sbml_model('iML1515.xml')\n",
    "print(model.summary())\n",
    "\n",
    "envcond = {'EX_glc__D_e': (-15.0, 100000.0),\n",
    "           'EX_o2_e':(0,1000)}\n",
    "\n",
    "#EX_mal__L_e L-malate\n",
    "#EX_mal__D_e D-malate\n",
    "\n",
    "from mewpy.simulation import get_simulator\n",
    "simul = get_simulator(model, envcond=envcond)\n",
    "result = simul.simulate(method='FBA')\n",
    "print(result)\n",
    "print('L-Malate wild type flux: ', result.fluxes['EX_mal__L_e'])\n",
    "print('D-Malate wild type flux: ',result.fluxes['EX_mal__D_e'])"
   ],
   "metadata": {
    "collapsed": false,
    "pycharm": {
     "name": "#%%\n"
    }
   }
  },
  {
   "cell_type": "markdown",
   "source": [
    "**Exercício 2**\n",
    "\n",
    "What are the maximum compound production capabilities?"
   ],
   "metadata": {
    "collapsed": false,
    "pycharm": {
     "name": "#%% md\n"
    }
   }
  },
  {
   "cell_type": "code",
   "execution_count": 7,
   "outputs": [
    {
     "name": "stdout",
     "output_type": "stream",
     "text": [
      "Objective\n",
      "=========\n",
      "1.0 BIOMASS_Ec_iML1515_core_75p37M = 0.8769972144269693\n",
      "\n",
      "Uptake\n",
      "------\n",
      "Metabolite      Reaction      Flux  C-Number   C-Flux\n",
      "     ca2_e      EX_ca2_e  0.004565         0    0.00%\n",
      "      cl_e       EX_cl_e  0.004565         0    0.00%\n",
      " cobalt2_e  EX_cobalt2_e 2.192E-05         0    0.00%\n",
      "     cu2_e      EX_cu2_e 0.0006218         0    0.00%\n",
      "     fe2_e      EX_fe2_e   0.01409         0    0.00%\n",
      "  glc__D_e   EX_glc__D_e        10         6  100.00%\n",
      "       k_e        EX_k_e    0.1712         0    0.00%\n",
      "     mg2_e      EX_mg2_e  0.007608         0    0.00%\n",
      "     mn2_e      EX_mn2_e  0.000606         0    0.00%\n",
      "    mobd_e     EX_mobd_e 6.139E-06         0    0.00%\n",
      "     nh4_e      EX_nh4_e     9.471         0    0.00%\n",
      "     ni2_e      EX_ni2_e 0.0002833         0    0.00%\n",
      "      o2_e       EX_o2_e     22.13         0    0.00%\n",
      "      pi_e       EX_pi_e     0.846         0    0.00%\n",
      "     so4_e      EX_so4_e    0.2208         0    0.00%\n",
      "     zn2_e      EX_zn2_e 0.0002991         0    0.00%\n",
      "\n",
      "Secretion\n",
      "---------\n",
      "Metabolite     Reaction       Flux  C-Number  C-Flux\n",
      "  4crsol_c  DM_4crsol_c -0.0001956         7   0.01%\n",
      "   5drib_c   DM_5drib_c -0.0001973         5   0.00%\n",
      "    amob_c    DM_amob_c -1.754E-06        15   0.00%\n",
      "     co2_e     EX_co2_e        -24         1  99.99%\n",
      "     h2o_e     EX_h2o_e     -47.16         0   0.00%\n",
      "       h_e       EX_h_e     -8.058         0   0.00%\n",
      "    meoh_e    EX_meoh_e -1.754E-06         1   0.00%\n",
      "\n"
     ]
    },
    {
     "data": {
      "text/plain": "   Reaction ID  Minimum   Maximum\n0  EX_mal__L_e      0.0  1.750872\n1  EX_mal__D_e      0.0  0.000000",
      "text/html": "<div>\n<style scoped>\n    .dataframe tbody tr th:only-of-type {\n        vertical-align: middle;\n    }\n\n    .dataframe tbody tr th {\n        vertical-align: top;\n    }\n\n    .dataframe thead th {\n        text-align: right;\n    }\n</style>\n<table border=\"1\" class=\"dataframe\">\n  <thead>\n    <tr style=\"text-align: right;\">\n      <th></th>\n      <th>Reaction ID</th>\n      <th>Minimum</th>\n      <th>Maximum</th>\n    </tr>\n  </thead>\n  <tbody>\n    <tr>\n      <th>0</th>\n      <td>EX_mal__L_e</td>\n      <td>0.0</td>\n      <td>1.750872</td>\n    </tr>\n    <tr>\n      <th>1</th>\n      <td>EX_mal__D_e</td>\n      <td>0.0</td>\n      <td>0.000000</td>\n    </tr>\n  </tbody>\n</table>\n</div>"
     },
     "execution_count": 7,
     "metadata": {},
     "output_type": "execute_result"
    }
   ],
   "source": [
    "from cobra.io import read_sbml_model\n",
    "model = read_sbml_model('iML1515.xml')\n",
    "envcond = {'EX_glc__D_e': (-15.0, 100000.0),\n",
    "           'EX_o2_e':(0,1000)}\n",
    "\n",
    "from mewpy.simulation import get_simulator\n",
    "simul = get_simulator(model, envcond=envcond)\n",
    "\n",
    "simul.FVA(reactions=['EX_mal__L_e', 'EX_mal__D_e'],format='df')\n"
   ],
   "metadata": {
    "collapsed": false,
    "pycharm": {
     "name": "#%%\n"
    }
   }
  },
  {
   "cell_type": "markdown",
   "source": [
    "**Exercício 3**\n",
    "\n",
    "Use different optimization objective functions to improve the production of the compound, considering that cells have evolved for maximum growth.\n",
    "\n",
    "*a)* Evaluate if single gene deletions enhance the production of the compound. Rank the mutants obtained according to the compound production capacity and growth performance."
   ],
   "metadata": {
    "collapsed": false,
    "pycharm": {
     "name": "#%% md\n"
    }
   }
  },
  {
   "cell_type": "code",
   "execution_count": 10,
   "outputs": [
    {
     "name": "stderr",
     "output_type": "stream",
     "text": [
      "C:\\Anaconda3\\envs\\py37\\lib\\site-packages\\cobra\\util\\solver.py:508: UserWarning:\n",
      "\n",
      "Solver status is 'infeasible'.\n",
      "\n"
     ]
    },
    {
     "ename": "KeyboardInterrupt",
     "evalue": "",
     "output_type": "error",
     "traceback": [
      "\u001B[1;31m---------------------------------------------------------------------------\u001B[0m",
      "\u001B[1;31mKeyboardInterrupt\u001B[0m                         Traceback (most recent call last)",
      "\u001B[1;32m<ipython-input-10-d705250e08a3>\u001B[0m in \u001B[0;36m<module>\u001B[1;34m\u001B[0m\n\u001B[0;32m     22\u001B[0m \u001B[1;32mfrom\u001B[0m \u001B[0mmewpy\u001B[0m\u001B[1;33m.\u001B[0m\u001B[0moptimization\u001B[0m \u001B[1;32mimport\u001B[0m \u001B[0mEA\u001B[0m\u001B[1;33m\u001B[0m\u001B[1;33m\u001B[0m\u001B[0m\n\u001B[0;32m     23\u001B[0m \u001B[0mea\u001B[0m \u001B[1;33m=\u001B[0m \u001B[0mEA\u001B[0m\u001B[1;33m(\u001B[0m\u001B[0mproblem\u001B[0m\u001B[1;33m,\u001B[0m \u001B[0mmax_generations\u001B[0m\u001B[1;33m=\u001B[0m \u001B[1;36m100\u001B[0m\u001B[1;33m,\u001B[0m \u001B[0mvisualizer\u001B[0m\u001B[1;33m=\u001B[0m\u001B[1;32mTrue\u001B[0m\u001B[1;33m)\u001B[0m\u001B[1;33m\u001B[0m\u001B[1;33m\u001B[0m\u001B[0m\n\u001B[1;32m---> 24\u001B[1;33m \u001B[0mfinal_pop\u001B[0m \u001B[1;33m=\u001B[0m \u001B[0mea\u001B[0m\u001B[1;33m.\u001B[0m\u001B[0mrun\u001B[0m\u001B[1;33m(\u001B[0m\u001B[1;33m)\u001B[0m\u001B[1;33m\u001B[0m\u001B[1;33m\u001B[0m\u001B[0m\n\u001B[0m\u001B[0;32m     25\u001B[0m \u001B[1;33m\u001B[0m\u001B[0m\n\u001B[0;32m     26\u001B[0m \u001B[1;32mfrom\u001B[0m \u001B[0mmewpy\u001B[0m\u001B[1;33m.\u001B[0m\u001B[0mutils\u001B[0m\u001B[1;33m.\u001B[0m\u001B[0mconstants\u001B[0m \u001B[1;32mimport\u001B[0m \u001B[0mModelConstants\u001B[0m\u001B[1;33m\u001B[0m\u001B[1;33m\u001B[0m\u001B[0m\n",
      "\u001B[1;32mC:\\Anaconda3\\envs\\py37\\lib\\site-packages\\mewpy\\optimization\\ea.py\u001B[0m in \u001B[0;36mrun\u001B[1;34m(self)\u001B[0m\n\u001B[0;32m    107\u001B[0m \u001B[1;33m\u001B[0m\u001B[0m\n\u001B[0;32m    108\u001B[0m         \u001B[1;31m# builds the target list\u001B[0m\u001B[1;33m\u001B[0m\u001B[1;33m\u001B[0m\u001B[1;33m\u001B[0m\u001B[0m\n\u001B[1;32m--> 109\u001B[1;33m         \u001B[0mself\u001B[0m\u001B[1;33m.\u001B[0m\u001B[0mproblem\u001B[0m\u001B[1;33m.\u001B[0m\u001B[0mpre_process\u001B[0m\u001B[1;33m(\u001B[0m\u001B[1;33m)\u001B[0m\u001B[1;33m\u001B[0m\u001B[1;33m\u001B[0m\u001B[0m\n\u001B[0m\u001B[0;32m    110\u001B[0m \u001B[1;33m\u001B[0m\u001B[0m\n\u001B[0;32m    111\u001B[0m         \u001B[1;32mif\u001B[0m \u001B[0mself\u001B[0m\u001B[1;33m.\u001B[0m\u001B[0mproblem\u001B[0m\u001B[1;33m.\u001B[0m\u001B[0mnumber_of_objectives\u001B[0m \u001B[1;33m==\u001B[0m \u001B[1;36m1\u001B[0m\u001B[1;33m:\u001B[0m\u001B[1;33m\u001B[0m\u001B[1;33m\u001B[0m\u001B[0m\n",
      "\u001B[1;32mC:\\Anaconda3\\envs\\py37\\lib\\site-packages\\mewpy\\problems\\problem.py\u001B[0m in \u001B[0;36mpre_process\u001B[1;34m(self)\u001B[0m\n\u001B[0;32m    134\u001B[0m         \"\"\" Defines pre processing tasks\n\u001B[0;32m    135\u001B[0m         \"\"\"\n\u001B[1;32m--> 136\u001B[1;33m         \u001B[0mself\u001B[0m\u001B[1;33m.\u001B[0m\u001B[0mtarget_list\u001B[0m\u001B[1;33m\u001B[0m\u001B[1;33m\u001B[0m\u001B[0m\n\u001B[0m\u001B[0;32m    137\u001B[0m         \u001B[0mself\u001B[0m\u001B[1;33m.\u001B[0m\u001B[0mreset_simulator\u001B[0m\u001B[1;33m(\u001B[0m\u001B[1;33m)\u001B[0m\u001B[1;33m\u001B[0m\u001B[1;33m\u001B[0m\u001B[0m\n\u001B[0;32m    138\u001B[0m \u001B[1;33m\u001B[0m\u001B[0m\n",
      "\u001B[1;32mC:\\Anaconda3\\envs\\py37\\lib\\site-packages\\mewpy\\problems\\problem.py\u001B[0m in \u001B[0;36mtarget_list\u001B[1;34m(self)\u001B[0m\n\u001B[0;32m    162\u001B[0m         \u001B[1;34m\"list of modification targets\"\u001B[0m\u001B[1;33m\u001B[0m\u001B[1;33m\u001B[0m\u001B[0m\n\u001B[0;32m    163\u001B[0m         \u001B[1;32mif\u001B[0m \u001B[0mself\u001B[0m\u001B[1;33m.\u001B[0m\u001B[0m_trg_list\u001B[0m \u001B[1;32mis\u001B[0m \u001B[1;32mNone\u001B[0m\u001B[1;33m:\u001B[0m\u001B[1;33m\u001B[0m\u001B[1;33m\u001B[0m\u001B[0m\n\u001B[1;32m--> 164\u001B[1;33m             \u001B[0mself\u001B[0m\u001B[1;33m.\u001B[0m\u001B[0m_build_target_list\u001B[0m\u001B[1;33m(\u001B[0m\u001B[1;33m)\u001B[0m\u001B[1;33m\u001B[0m\u001B[1;33m\u001B[0m\u001B[0m\n\u001B[0m\u001B[0;32m    165\u001B[0m             \u001B[1;32mif\u001B[0m \u001B[1;32mnot\u001B[0m \u001B[0mself\u001B[0m\u001B[1;33m.\u001B[0m\u001B[0m_trg_list\u001B[0m\u001B[1;33m:\u001B[0m\u001B[1;33m\u001B[0m\u001B[1;33m\u001B[0m\u001B[0m\n\u001B[0;32m    166\u001B[0m                 \u001B[1;32mraise\u001B[0m \u001B[0mRuntimeError\u001B[0m\u001B[1;33m(\u001B[0m\u001B[1;34m\"Could not build target list.\"\u001B[0m\u001B[1;33m)\u001B[0m\u001B[1;33m\u001B[0m\u001B[1;33m\u001B[0m\u001B[0m\n",
      "\u001B[1;32mC:\\Anaconda3\\envs\\py37\\lib\\site-packages\\mewpy\\problems\\genes.py\u001B[0m in \u001B[0;36m_build_target_list\u001B[1;34m(self)\u001B[0m\n\u001B[0;32m     34\u001B[0m \u001B[1;33m\u001B[0m\u001B[0m\n\u001B[0;32m     35\u001B[0m         \u001B[0mgenes\u001B[0m \u001B[1;33m=\u001B[0m \u001B[0mset\u001B[0m\u001B[1;33m(\u001B[0m\u001B[0mself\u001B[0m\u001B[1;33m.\u001B[0m\u001B[0msimulator\u001B[0m\u001B[1;33m.\u001B[0m\u001B[0mgenes\u001B[0m\u001B[1;33m)\u001B[0m\u001B[1;33m\u001B[0m\u001B[1;33m\u001B[0m\u001B[0m\n\u001B[1;32m---> 36\u001B[1;33m         \u001B[0messential\u001B[0m \u001B[1;33m=\u001B[0m \u001B[0mset\u001B[0m\u001B[1;33m(\u001B[0m\u001B[0mself\u001B[0m\u001B[1;33m.\u001B[0m\u001B[0msimulator\u001B[0m\u001B[1;33m.\u001B[0m\u001B[0messential_genes\u001B[0m\u001B[1;33m)\u001B[0m\u001B[1;33m\u001B[0m\u001B[1;33m\u001B[0m\u001B[0m\n\u001B[0m\u001B[0;32m     37\u001B[0m         \u001B[0mtarget\u001B[0m \u001B[1;33m=\u001B[0m \u001B[0mgenes\u001B[0m \u001B[1;33m-\u001B[0m \u001B[0messential\u001B[0m\u001B[1;33m\u001B[0m\u001B[1;33m\u001B[0m\u001B[0m\n\u001B[0;32m     38\u001B[0m         \u001B[1;32mif\u001B[0m \u001B[0mself\u001B[0m\u001B[1;33m.\u001B[0m\u001B[0mnon_target\u001B[0m\u001B[1;33m:\u001B[0m\u001B[1;33m\u001B[0m\u001B[1;33m\u001B[0m\u001B[0m\n",
      "\u001B[1;32mC:\\Anaconda3\\envs\\py37\\lib\\site-packages\\mewpy\\simulation\\cobra.py\u001B[0m in \u001B[0;36messential_genes\u001B[1;34m(self, min_growth)\u001B[0m\n\u001B[0;32m    188\u001B[0m             \u001B[0minactive_reactions\u001B[0m \u001B[1;33m=\u001B[0m \u001B[0mset\u001B[0m\u001B[1;33m(\u001B[0m\u001B[0mself\u001B[0m\u001B[1;33m.\u001B[0m\u001B[0mreactions\u001B[0m\u001B[1;33m)\u001B[0m \u001B[1;33m-\u001B[0m \u001B[0mset\u001B[0m\u001B[1;33m(\u001B[0m\u001B[0mactive_reactions\u001B[0m\u001B[1;33m)\u001B[0m\u001B[1;33m\u001B[0m\u001B[1;33m\u001B[0m\u001B[0m\n\u001B[0;32m    189\u001B[0m             \u001B[0mgr_constraints\u001B[0m \u001B[1;33m=\u001B[0m \u001B[1;33m{\u001B[0m\u001B[0mrxn\u001B[0m\u001B[1;33m:\u001B[0m \u001B[1;36m0\u001B[0m \u001B[1;32mfor\u001B[0m \u001B[0mrxn\u001B[0m \u001B[1;32min\u001B[0m \u001B[0minactive_reactions\u001B[0m\u001B[1;33m}\u001B[0m\u001B[1;33m\u001B[0m\u001B[1;33m\u001B[0m\u001B[0m\n\u001B[1;32m--> 190\u001B[1;33m             \u001B[0mres\u001B[0m \u001B[1;33m=\u001B[0m \u001B[0mself\u001B[0m\u001B[1;33m.\u001B[0m\u001B[0msimulate\u001B[0m\u001B[1;33m(\u001B[0m\u001B[0mconstraints\u001B[0m\u001B[1;33m=\u001B[0m\u001B[0mgr_constraints\u001B[0m\u001B[1;33m)\u001B[0m\u001B[1;33m\u001B[0m\u001B[1;33m\u001B[0m\u001B[0m\n\u001B[0m\u001B[0;32m    191\u001B[0m             \u001B[1;32mif\u001B[0m \u001B[0mres\u001B[0m\u001B[1;33m:\u001B[0m\u001B[1;33m\u001B[0m\u001B[1;33m\u001B[0m\u001B[0m\n\u001B[0;32m    192\u001B[0m                 \u001B[1;32mif\u001B[0m \u001B[1;33m(\u001B[0m\u001B[0mres\u001B[0m\u001B[1;33m.\u001B[0m\u001B[0mstatus\u001B[0m \u001B[1;33m==\u001B[0m \u001B[0mSStatus\u001B[0m\u001B[1;33m.\u001B[0m\u001B[0mOPTIMAL\u001B[0m \u001B[1;32mand\u001B[0m \u001B[0mres\u001B[0m\u001B[1;33m.\u001B[0m\u001B[0mobjective_value\u001B[0m \u001B[1;33m<\u001B[0m \u001B[0mwt_growth\u001B[0m \u001B[1;33m*\u001B[0m \u001B[0mmin_growth\u001B[0m\u001B[1;33m)\u001B[0m\u001B[0;31m \u001B[0m\u001B[0;31m\\\u001B[0m\u001B[1;33m\u001B[0m\u001B[1;33m\u001B[0m\u001B[0m\n",
      "\u001B[1;32mC:\\Anaconda3\\envs\\py37\\lib\\site-packages\\mewpy\\simulation\\cobra.py\u001B[0m in \u001B[0;36msimulate\u001B[1;34m(self, objective, method, maximize, constraints, reference, scalefactor)\u001B[0m\n\u001B[0;32m    462\u001B[0m             \u001B[0mobjective_sense\u001B[0m \u001B[1;33m=\u001B[0m \u001B[1;34m'maximize'\u001B[0m \u001B[1;32mif\u001B[0m \u001B[0mmaximize\u001B[0m \u001B[1;32melse\u001B[0m \u001B[1;34m'minimize'\u001B[0m\u001B[1;33m\u001B[0m\u001B[1;33m\u001B[0m\u001B[0m\n\u001B[0;32m    463\u001B[0m             \u001B[1;32mif\u001B[0m \u001B[0mmethod\u001B[0m \u001B[1;33m==\u001B[0m \u001B[0mSimulationMethod\u001B[0m\u001B[1;33m.\u001B[0m\u001B[0mFBA\u001B[0m\u001B[1;33m:\u001B[0m\u001B[1;33m\u001B[0m\u001B[1;33m\u001B[0m\u001B[0m\n\u001B[1;32m--> 464\u001B[1;33m                 \u001B[0msolution\u001B[0m \u001B[1;33m=\u001B[0m \u001B[0mmodel\u001B[0m\u001B[1;33m.\u001B[0m\u001B[0moptimize\u001B[0m\u001B[1;33m(\u001B[0m\u001B[0mobjective_sense\u001B[0m\u001B[1;33m=\u001B[0m\u001B[0mobjective_sense\u001B[0m\u001B[1;33m)\u001B[0m\u001B[1;33m\u001B[0m\u001B[1;33m\u001B[0m\u001B[0m\n\u001B[0m\u001B[0;32m    465\u001B[0m             \u001B[1;32melif\u001B[0m \u001B[0mmethod\u001B[0m \u001B[1;33m==\u001B[0m \u001B[0mSimulationMethod\u001B[0m\u001B[1;33m.\u001B[0m\u001B[0mpFBA\u001B[0m\u001B[1;33m:\u001B[0m\u001B[1;33m\u001B[0m\u001B[1;33m\u001B[0m\u001B[0m\n\u001B[0;32m    466\u001B[0m                 \u001B[1;31m# make fraction_of_optimum a configurable parameter?\u001B[0m\u001B[1;33m\u001B[0m\u001B[1;33m\u001B[0m\u001B[1;33m\u001B[0m\u001B[0m\n",
      "\u001B[1;32mC:\\Anaconda3\\envs\\py37\\lib\\site-packages\\cobra\\core\\model.py\u001B[0m in \u001B[0;36moptimize\u001B[1;34m(self, objective_sense, raise_error)\u001B[0m\n\u001B[0;32m   1107\u001B[0m         )\n\u001B[0;32m   1108\u001B[0m         \u001B[0mself\u001B[0m\u001B[1;33m.\u001B[0m\u001B[0mslim_optimize\u001B[0m\u001B[1;33m(\u001B[0m\u001B[1;33m)\u001B[0m\u001B[1;33m\u001B[0m\u001B[1;33m\u001B[0m\u001B[0m\n\u001B[1;32m-> 1109\u001B[1;33m         \u001B[0msolution\u001B[0m \u001B[1;33m=\u001B[0m \u001B[0mget_solution\u001B[0m\u001B[1;33m(\u001B[0m\u001B[0mself\u001B[0m\u001B[1;33m,\u001B[0m \u001B[0mraise_error\u001B[0m\u001B[1;33m=\u001B[0m\u001B[0mraise_error\u001B[0m\u001B[1;33m)\u001B[0m\u001B[1;33m\u001B[0m\u001B[1;33m\u001B[0m\u001B[0m\n\u001B[0m\u001B[0;32m   1110\u001B[0m         \u001B[0mself\u001B[0m\u001B[1;33m.\u001B[0m\u001B[0mobjective\u001B[0m\u001B[1;33m.\u001B[0m\u001B[0mdirection\u001B[0m \u001B[1;33m=\u001B[0m \u001B[0moriginal_direction\u001B[0m\u001B[1;33m\u001B[0m\u001B[1;33m\u001B[0m\u001B[0m\n\u001B[0;32m   1111\u001B[0m         \u001B[1;32mreturn\u001B[0m \u001B[0msolution\u001B[0m\u001B[1;33m\u001B[0m\u001B[1;33m\u001B[0m\u001B[0m\n",
      "\u001B[1;32mC:\\Anaconda3\\envs\\py37\\lib\\site-packages\\cobra\\core\\solution.py\u001B[0m in \u001B[0;36mget_solution\u001B[1;34m(model, reactions, metabolites, raise_error)\u001B[0m\n\u001B[0;32m    259\u001B[0m             \u001B[0mrxn_index\u001B[0m\u001B[1;33m.\u001B[0m\u001B[0mappend\u001B[0m\u001B[1;33m(\u001B[0m\u001B[0mforward\u001B[0m\u001B[1;33m)\u001B[0m\u001B[1;33m\u001B[0m\u001B[1;33m\u001B[0m\u001B[0m\n\u001B[0;32m    260\u001B[0m             \u001B[0mfluxes\u001B[0m\u001B[1;33m[\u001B[0m\u001B[0mi\u001B[0m\u001B[1;33m]\u001B[0m \u001B[1;33m=\u001B[0m \u001B[0mvar_primals\u001B[0m\u001B[1;33m[\u001B[0m\u001B[0mforward\u001B[0m\u001B[1;33m]\u001B[0m \u001B[1;33m-\u001B[0m \u001B[0mvar_primals\u001B[0m\u001B[1;33m[\u001B[0m\u001B[0mreverse\u001B[0m\u001B[1;33m]\u001B[0m\u001B[1;33m\u001B[0m\u001B[1;33m\u001B[0m\u001B[0m\n\u001B[1;32m--> 261\u001B[1;33m             \u001B[0mreduced\u001B[0m\u001B[1;33m[\u001B[0m\u001B[0mi\u001B[0m\u001B[1;33m]\u001B[0m \u001B[1;33m=\u001B[0m \u001B[0mvar_duals\u001B[0m\u001B[1;33m[\u001B[0m\u001B[0mforward\u001B[0m\u001B[1;33m]\u001B[0m \u001B[1;33m-\u001B[0m \u001B[0mvar_duals\u001B[0m\u001B[1;33m[\u001B[0m\u001B[0mreverse\u001B[0m\u001B[1;33m]\u001B[0m\u001B[1;33m\u001B[0m\u001B[1;33m\u001B[0m\u001B[0m\n\u001B[0m\u001B[0;32m    262\u001B[0m         \u001B[0mmet_index\u001B[0m \u001B[1;33m=\u001B[0m \u001B[0mlist\u001B[0m\u001B[1;33m(\u001B[0m\u001B[1;33m)\u001B[0m\u001B[1;33m\u001B[0m\u001B[1;33m\u001B[0m\u001B[0m\n\u001B[0;32m    263\u001B[0m         \u001B[0mconstr_duals\u001B[0m \u001B[1;33m=\u001B[0m \u001B[0mmodel\u001B[0m\u001B[1;33m.\u001B[0m\u001B[0msolver\u001B[0m\u001B[1;33m.\u001B[0m\u001B[0mshadow_prices\u001B[0m\u001B[1;33m\u001B[0m\u001B[1;33m\u001B[0m\u001B[0m\n",
      "\u001B[1;31mKeyboardInterrupt\u001B[0m: "
     ]
    }
   ],
   "source": [
    "from cobra.io import read_sbml_model\n",
    "model = read_sbml_model('iML1515.xml')\n",
    "envcond = {'EX_glc__D_e': (-15.0, 100000.0),\n",
    "           'EX_o2_e':(0,1000)}\n",
    "from mewpy.simulation import get_simulator\n",
    "simul = get_simulator(model, envcond=envcond)\n",
    "\n",
    "# Define the target\n",
    "PRODUCT_ID = 'EX_mal__L_e'\n",
    "BIOMASS_ID = 'BIOMASS_Ec_iML1515_core_75p37M'\n",
    "\n",
    "#Optimization objectives\n",
    "from mewpy.optimization.evaluation import  BPCY, MinCandSize, AggregatedSum, TargetFlux\n",
    "f1 = BPCY(BIOMASS_ID, PRODUCT_ID, method='pFBA')\n",
    "f2 = MinCandSize()\n",
    "fevaluation = AggregatedSum([f1,f2])\n",
    "fevaluation1 = TargetFlux(PRODUCT_ID)\n",
    "\n",
    "from mewpy.problems import GKOProblem\n",
    "problem = GKOProblem(model, fevaluation = [fevaluation, fevaluation1], envcond=envcond)\n",
    "\n",
    "from mewpy.optimization import EA\n",
    "ea = EA(problem, max_generations= 100, visualizer=True)\n",
    "final_pop = ea.run()\n",
    "\n",
    "from mewpy.utils.constants import ModelConstants\n",
    "ModelConstants.RESET_SOLVER = True\n",
    "\n",
    "\n"
   ],
   "metadata": {
    "collapsed": false,
    "pycharm": {
     "name": "#%%\n"
    }
   }
  }
 ],
 "metadata": {
  "kernelspec": {
   "name": "pycharm-eb7d2b97",
   "language": "python",
   "display_name": "PyCharm (BS)"
  },
  "language_info": {
   "codemirror_mode": {
    "name": "ipython",
    "version": 2
   },
   "file_extension": ".py",
   "mimetype": "text/x-python",
   "name": "python",
   "nbconvert_exporter": "python",
   "pygments_lexer": "ipython2",
   "version": "2.7.6"
  }
 },
 "nbformat": 4,
 "nbformat_minor": 0
}